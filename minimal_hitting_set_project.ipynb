{
 "cells": [
  {
   "cell_type": "code",
   "execution_count": 1,
   "metadata": {
    "id": "io8dJqCjmZaA"
   },
   "outputs": [],
   "source": [
    "import numpy as np\n",
    "import pandas as pd\n",
    "import matplotlib.pyplot as plt\n",
    "import time\n",
    "import tqdm\n",
    "import os\n",
    "import random"
   ]
  },
  {
   "cell_type": "code",
   "execution_count": 2,
   "metadata": {
    "id": "4wMBXKCuoYMD"
   },
   "outputs": [],
   "source": [
    "def initialize_string_matrix(lines):\n",
    "  string_mat = []\n",
    "  for line in lines:\n",
    "    if line[0] == '0' or line[0] == '1':\n",
    "      string_mat.append(line[:-3])\n",
    "  return string_mat"
   ]
  },
  {
   "cell_type": "code",
   "execution_count": 3,
   "metadata": {
    "id": "XabycfZLoqoB"
   },
   "outputs": [],
   "source": [
    "def initialize_ones_matrix(string_mat):\n",
    "  matrix = []\n",
    "  for string_row in string_mat:\n",
    "    row = []\n",
    "    for i in range(len(string_row)):\n",
    "      if i % 2 == 0:\n",
    "        row.append(int(string_row[i]))\n",
    "    matrix.append(row)\n",
    "  return matrix"
   ]
  },
  {
   "cell_type": "code",
   "execution_count": 4,
   "metadata": {
    "id": "ggFzD2kon-Td"
   },
   "outputs": [],
   "source": [
    "def read_matrix(file_name):\n",
    "  with open(file_name, 'r') as f:\n",
    "    lines = f.readlines()\n",
    "  string_mat = initialize_string_matrix(lines)\n",
    "  matrix = initialize_ones_matrix(string_mat)\n",
    "  return np.array(matrix)"
   ]
  },
  {
   "cell_type": "code",
   "execution_count": 5,
   "metadata": {
    "id": "rAAAMabF1cjm"
   },
   "outputs": [],
   "source": [
    "def initialize_sets_dict(matrix, M):\n",
    "  sets_dict = {}\n",
    "  for i in range(matrix.shape[1]):\n",
    "    col = np.unique(matrix[:, i])\n",
    "    if len(col) > 1:\n",
    "      sets_dict[M[i]] = ANALYZE\n",
    "    elif col == 1:\n",
    "      sets_dict[M[i]] = MHS\n",
    "    elif col == 0:\n",
    "      sets_dict[M[i]] = KO\n",
    "  return sets_dict"
   ]
  },
  {
   "cell_type": "code",
   "execution_count": 6,
   "metadata": {
    "id": "0pElK-JD1-VI"
   },
   "outputs": [],
   "source": [
    "def initialize_new_matrix(matrix, M):\n",
    "  new_matrix = []\n",
    "  for row in matrix:\n",
    "    new_matrix_row = []\n",
    "    for row_index in range(len(row)):\n",
    "      if row[row_index] == 1:\n",
    "        new_matrix_row.append(M[row_index])\n",
    "      else:\n",
    "        new_matrix_row.append(\"\")\n",
    "    new_matrix.append(new_matrix_row)\n",
    "  new_matrix = np.array(new_matrix)\n",
    "  return new_matrix"
   ]
  },
  {
   "cell_type": "code",
   "execution_count": 7,
   "metadata": {
    "id": "SdOhrziK2OMA"
   },
   "outputs": [],
   "source": [
    "def initialize_indices(M):\n",
    "  indices = {}\n",
    "  index = 0\n",
    "  for letter in M:\n",
    "    indices[letter] = index\n",
    "    index += 1\n",
    "  return indices"
   ]
  },
  {
   "cell_type": "code",
   "execution_count": 8,
   "metadata": {
    "id": "Vv4CdstC3Bf2"
   },
   "outputs": [],
   "source": [
    "def initialize_queue(M, sets_dict, indices):\n",
    "  queue = []\n",
    "  minimum_sets = [letter for letter in M if sets_dict[letter] == MHS]\n",
    "  old_queue = [letter for letter in M if sets_dict[letter] == ANALYZE and letter != M[-1]]\n",
    "  # print(old_queue)\n",
    "  for letter1 in old_queue:\n",
    "    for letter2 in M:\n",
    "      arr = [letter1]\n",
    "      if sets_dict[letter2] == ANALYZE and indices[letter1] < indices[letter2]:\n",
    "        arr.append(letter2)\n",
    "        queue.append(arr)\n",
    "  return queue, minimum_sets"
   ]
  },
  {
   "cell_type": "code",
   "execution_count": 9,
   "metadata": {
    "id": "xmK7UQ132aWC"
   },
   "outputs": [],
   "source": [
    "def check(lambda_set):\n",
    "  lambda_indices = [indices[letter] for letter in lambda_set]\n",
    "  # print(lambda_indices)\n",
    "  filtered_matrix = new_matrix[:, lambda_indices]\n",
    "  # print(filtered_matrix)\n",
    "  vec = [\"\".join(col) for col in filtered_matrix]\n",
    "#   print(vec)\n",
    "  new_vec = [elem for elem in vec if elem.count('z') <= 1]\n",
    "#   print(new_vec)\n",
    "  new_vec = np.array(new_vec)\n",
    "  proj_vec = np.unique(new_vec)\n",
    "  # print(proj_vec)\n",
    "  if proj_vec.tolist() == lambda_set:\n",
    "    return \"MHS\"\n",
    "  elif proj_vec.tolist() == [''] + lambda_set:\n",
    "    return \"OK\"\n",
    "  return \"KO\""
   ]
  },
  {
   "cell_type": "code",
   "execution_count": 10,
   "metadata": {
    "id": "0YyLDfsNnIjI"
   },
   "outputs": [],
   "source": [
    "def write_results(filename, minimum_sets, matrix, elapsed_time, isSolved):\n",
    "  with open(filename, \"w\") as f:\n",
    "    f.write(str(len(minimum_sets)) + \"\\n\")\n",
    "    f.write(str(elapsed_time) + \"\\n\")\n",
    "    f.write(str(matrix.shape[1]) + \"\\n\")\n",
    "    f.write(str(matrix.shape[0]) + \"\\n\")\n",
    "    f.write(str(isSolved) + \"\\n\")\n",
    "    f.write(str(matrix.shape[0] * matrix.shape[1]) + \"\\n\")\n",
    "    for minimum_set in minimum_sets:\n",
    "      for single_set in minimum_set:\n",
    "        f.write(f\"{single_set}, \")\n",
    "      f.write(\"\\n\")\n",
    "    f.close()"
   ]
  },
  {
   "cell_type": "code",
   "execution_count": 11,
   "metadata": {
    "id": "7n1U0ICS1MVt"
   },
   "outputs": [],
   "source": [
    "MHS = 'MHS'\n",
    "KO = 'KO'\n",
    "ANALYZE = 'ANALYZE'"
   ]
  },
  {
   "cell_type": "code",
   "execution_count": 12,
   "metadata": {
    "id": "osZQtyrrswZQ"
   },
   "outputs": [],
   "source": [
    "benchmark_1 = \"./benchmarks1/benchmarks1\"\n",
    "benchmark_2 = \"./benchmarks2/benchmarks2\""
   ]
  },
  {
   "cell_type": "code",
   "execution_count": 13,
   "metadata": {
    "id": "_QDz9yvp0SfB"
   },
   "outputs": [],
   "source": [
    "matrices_files_1 = sorted(os.listdir(benchmark_1))\n",
    "matrices_files_2 = sorted(os.listdir(benchmark_2))"
   ]
  },
  {
   "cell_type": "code",
   "execution_count": 15,
   "metadata": {
    "id": "pljsOAZ3mnFu"
   },
   "outputs": [],
   "source": [
    "os.makedirs(\"./benchmarks_1_mhs\", exist_ok=True)\n",
    "os.makedirs(\"./benchmarks_2_mhs\", exist_ok=True)"
   ]
  },
  {
   "cell_type": "code",
   "execution_count": 14,
   "metadata": {
    "colab": {
     "base_uri": "https://localhost:8080/",
     "height": 570,
     "referenced_widgets": [
      "a58097edc0ed412e8fdb67dfd9939f92",
      "d00c33c6794847eca6d4665665620a03",
      "a1485f528cf44d769354da203e1774c6",
      "31e519f60c004abba6e5c08b9a8c95e0",
      "2159aa64ecf345f189b7d46e2a67cb04",
      "ee491493f59a47da987d3f76632073f6",
      "7c337bdf862343d0ae1abc81aa6c4632",
      "ec18b919aea54cc48afb9f3dcdcbd12e",
      "2da698901301415bad6c689f31bff477",
      "b9bce580d37746d98605ae667c0dfc3d",
      "c8581f4c81bb4a4e89650aa088c9a675"
     ]
    },
    "id": "YkBeHPri0ZVJ",
    "outputId": "65148abb-fe44-4b29-d2fd-9c6dd0a62809",
    "scrolled": true
   },
   "outputs": [
    {
     "data": {
      "application/vnd.jupyter.widget-view+json": {
       "model_id": "55627eb812d24a2eab2088b2433deb1e",
       "version_major": 2,
       "version_minor": 0
      },
      "text/plain": [
       "  0%|          | 0/8 [00:00<?, ?it/s]"
      ]
     },
     "metadata": {},
     "output_type": "display_data"
    },
    {
     "name": "stdout",
     "output_type": "stream",
     "text": [
      "Maximum time reached, processing the next entity\n",
      "Maximum time reached, processing the next entity\n",
      "Maximum time reached, processing the next entity\n",
      "Maximum time reached, processing the next entity\n",
      "Maximum time reached, processing the next entity\n",
      "Maximum time reached, processing the next entity\n",
      "Maximum time reached, processing the next entity\n",
      "Maximum time reached, processing the next entity\n"
     ]
    },
    {
     "data": {
      "text/plain": [
       "[600.0004279613495,\n",
       " 600.0030965805054,\n",
       " 600.0017743110657,\n",
       " 600.0052177906036,\n",
       " 600.0070807933807,\n",
       " 600.0069785118103,\n",
       " 600.0045936107635,\n",
       " 600.0032653808594]"
      ]
     },
     "execution_count": 14,
     "metadata": {},
     "output_type": "execute_result"
    }
   ],
   "source": [
    "import time\n",
    "from tqdm.auto import tqdm\n",
    "processed_times = []\n",
    "for matrix_file in tqdm(matrices_files_2[1392:]):\n",
    "  start = time.time()\n",
    "  isInterrupted = False\n",
    "  matrix = read_matrix(benchmark_2 + \"/\" + matrix_file)\n",
    "  M = np.array([\"z\" + str(i + 1) for i in range(matrix.shape[1])])\n",
    "  sets_dict = initialize_sets_dict(matrix, M)\n",
    "  new_matrix = initialize_new_matrix(matrix, M)\n",
    "  indices = initialize_indices(M)\n",
    "  minimum_sets = []\n",
    "  queue, minimum_sets = initialize_queue(M, sets_dict, indices)\n",
    "  while len(queue) > 0:\n",
    "    lambda_set = queue.pop(0)\n",
    "    elapsed_time = time.time() - start\n",
    "    \n",
    "    if elapsed_time > 600:\n",
    "      print(\"Maximum time reached, processing the next entity\")\n",
    "      isInterrupted = True\n",
    "      processed_times.append(elapsed_time)\n",
    "      write_results(f\"./benchmarks_2_mhs/{matrix_file}\", minimum_sets, matrix, elapsed_time, isSolved=False)\n",
    "      break\n",
    "    # print(\"Lambda Set: \", lambda_set)\n",
    "    \n",
    "    res = check(lambda_set)\n",
    "\n",
    "    # print(res)\n",
    "\n",
    "    if res == \"OK\" and lambda_set[-1][-1] != M[-1]:\n",
    "      new_sets = [lambda_set + [letter] for letter in M if indices[letter] > indices[lambda_set[-1]] and sets_dict[letter] == ANALYZE]\n",
    "      # print(\"New Sets: \", new_sets)\n",
    "      for new_set in new_sets:\n",
    "        queue.append(new_set)\n",
    "    if res == MHS:\n",
    "      # print(\"MHS: \", lambda_set)\n",
    "      minimum_sets.append(lambda_set)\n",
    "  # print(minimum_sets)\n",
    "  if not isInterrupted:\n",
    "    end = time.time() - start\n",
    "    processed_times.append(end)\n",
    "    write_results(f\"./benchmarks_2_mhs/{matrix_file}\", minimum_sets, matrix, elapsed_time, isSolved=True)\n",
    "processed_times"
   ]
  },
  {
   "cell_type": "code",
   "execution_count": 15,
   "metadata": {
    "colab": {
     "base_uri": "https://localhost:8080/"
    },
    "id": "YCaEeCV63jiG",
    "outputId": "113a74da-7100-4c41-ff91-4988b43c1244"
   },
   "outputs": [
    {
     "data": {
      "text/plain": [
       "4800.032434940338"
      ]
     },
     "execution_count": 15,
     "metadata": {},
     "output_type": "execute_result"
    }
   ],
   "source": [
    "sum(processed_times)"
   ]
  },
  {
   "cell_type": "code",
   "execution_count": 17,
   "metadata": {
    "colab": {
     "base_uri": "https://localhost:8080/"
    },
    "id": "0zmj9sQmljTL",
    "outputId": "740b353b-acdd-4083-b5cf-2ba150569399",
    "scrolled": true
   },
   "outputs": [
    {
     "data": {
      "application/vnd.jupyter.widget-view+json": {
       "model_id": "e166fab77f3a4ade85dc6f14163ce992",
       "version_major": 2,
       "version_minor": 0
      },
      "text/plain": [
       "  0%|          | 0/1400 [00:00<?, ?it/s]"
      ]
     },
     "metadata": {},
     "output_type": "display_data"
    }
   ],
   "source": [
    "from tqdm.auto import tqdm\n",
    "results_files = os.listdir(\"./benchmarks_2_mhs\")\n",
    "useful_results = []\n",
    "for result_file in tqdm(results_files):\n",
    "    path1 = f\"./benchmarks_2_mhs/{result_file}\"\n",
    "    path2 = f\"./benchmarks_2_other_data/{result_file}\"\n",
    "    with open(path1) as f:\n",
    "        lines = f.readlines()\n",
    "        source_file = result_file\n",
    "        seconds = float(lines[1][:-1])\n",
    "        cols = int(lines[2][:-1])\n",
    "        rows = int(lines[3][:-1])\n",
    "        solved = lines[4][:-1]\n",
    "        if solved == 'True':\n",
    "            solved = True\n",
    "        else:\n",
    "            solved = False\n",
    "        # print(seconds, solved, cols * rows)\n",
    "        f.close()\n",
    "    with open(path2) as f:\n",
    "        lines = f.readlines()\n",
    "        zeros_count = int(lines[0][:-1])\n",
    "        ones_count = int(lines[1][:-1])\n",
    "        total_elems = int(lines[2][:-1])\n",
    "        zero_ratio = float(lines[3][:-1])\n",
    "        one_ratio = float(lines[4][:-1])\n",
    "        rank = int(lines[5][:-1])\n",
    "        f.close()\n",
    "        useful_results.append([source_file, seconds, cols, rows, solved, rows * cols, zeros_count, ones_count, zero_ratio,\n",
    "                              one_ratio, rank])\n",
    "# useful_results"
   ]
  },
  {
   "cell_type": "code",
   "execution_count": 18,
   "metadata": {
    "colab": {
     "base_uri": "https://localhost:8080/",
     "height": 990
    },
    "id": "_D4Yavty1bbO",
    "outputId": "44dd997d-a6fe-413d-94d8-3ca6f8db5048"
   },
   "outputs": [
    {
     "data": {
      "text/html": [
       "<div>\n",
       "<style scoped>\n",
       "    .dataframe tbody tr th:only-of-type {\n",
       "        vertical-align: middle;\n",
       "    }\n",
       "\n",
       "    .dataframe tbody tr th {\n",
       "        vertical-align: top;\n",
       "    }\n",
       "\n",
       "    .dataframe thead th {\n",
       "        text-align: right;\n",
       "    }\n",
       "</style>\n",
       "<table border=\"1\" class=\"dataframe\">\n",
       "  <thead>\n",
       "    <tr style=\"text-align: right;\">\n",
       "      <th></th>\n",
       "      <th>source_file</th>\n",
       "      <th>seconds</th>\n",
       "      <th>cols</th>\n",
       "      <th>rows</th>\n",
       "      <th>is_solved</th>\n",
       "      <th>#elements</th>\n",
       "      <th>zeros_count</th>\n",
       "      <th>ones_count</th>\n",
       "      <th>zero_ratio</th>\n",
       "      <th>one_ratio</th>\n",
       "      <th>matrix_rank</th>\n",
       "    </tr>\n",
       "  </thead>\n",
       "  <tbody>\n",
       "    <tr>\n",
       "      <th>0</th>\n",
       "      <td>74181.000.matrix</td>\n",
       "      <td>0.061015</td>\n",
       "      <td>65</td>\n",
       "      <td>3</td>\n",
       "      <td>True</td>\n",
       "      <td>195</td>\n",
       "      <td>141</td>\n",
       "      <td>54</td>\n",
       "      <td>0.723077</td>\n",
       "      <td>0.276923</td>\n",
       "      <td>3</td>\n",
       "    </tr>\n",
       "    <tr>\n",
       "      <th>1</th>\n",
       "      <td>74181.001.matrix</td>\n",
       "      <td>0.025005</td>\n",
       "      <td>65</td>\n",
       "      <td>2</td>\n",
       "      <td>True</td>\n",
       "      <td>130</td>\n",
       "      <td>101</td>\n",
       "      <td>29</td>\n",
       "      <td>0.776923</td>\n",
       "      <td>0.223077</td>\n",
       "      <td>2</td>\n",
       "    </tr>\n",
       "    <tr>\n",
       "      <th>2</th>\n",
       "      <td>74181.002.matrix</td>\n",
       "      <td>0.023006</td>\n",
       "      <td>65</td>\n",
       "      <td>2</td>\n",
       "      <td>True</td>\n",
       "      <td>130</td>\n",
       "      <td>96</td>\n",
       "      <td>34</td>\n",
       "      <td>0.738462</td>\n",
       "      <td>0.261538</td>\n",
       "      <td>2</td>\n",
       "    </tr>\n",
       "    <tr>\n",
       "      <th>3</th>\n",
       "      <td>74181.003.matrix</td>\n",
       "      <td>0.040020</td>\n",
       "      <td>65</td>\n",
       "      <td>2</td>\n",
       "      <td>True</td>\n",
       "      <td>130</td>\n",
       "      <td>119</td>\n",
       "      <td>11</td>\n",
       "      <td>0.915385</td>\n",
       "      <td>0.084615</td>\n",
       "      <td>2</td>\n",
       "    </tr>\n",
       "    <tr>\n",
       "      <th>4</th>\n",
       "      <td>74181.004.matrix</td>\n",
       "      <td>0.018100</td>\n",
       "      <td>65</td>\n",
       "      <td>2</td>\n",
       "      <td>True</td>\n",
       "      <td>130</td>\n",
       "      <td>105</td>\n",
       "      <td>25</td>\n",
       "      <td>0.807692</td>\n",
       "      <td>0.192308</td>\n",
       "      <td>2</td>\n",
       "    </tr>\n",
       "    <tr>\n",
       "      <th>...</th>\n",
       "      <td>...</td>\n",
       "      <td>...</td>\n",
       "      <td>...</td>\n",
       "      <td>...</td>\n",
       "      <td>...</td>\n",
       "      <td>...</td>\n",
       "      <td>...</td>\n",
       "      <td>...</td>\n",
       "      <td>...</td>\n",
       "      <td>...</td>\n",
       "      <td>...</td>\n",
       "    </tr>\n",
       "    <tr>\n",
       "      <th>1395</th>\n",
       "      <td>c880.241.matrix</td>\n",
       "      <td>600.005218</td>\n",
       "      <td>383</td>\n",
       "      <td>47</td>\n",
       "      <td>False</td>\n",
       "      <td>18001</td>\n",
       "      <td>17160</td>\n",
       "      <td>841</td>\n",
       "      <td>0.953280</td>\n",
       "      <td>0.046720</td>\n",
       "      <td>47</td>\n",
       "    </tr>\n",
       "    <tr>\n",
       "      <th>1396</th>\n",
       "      <td>c880.242.matrix</td>\n",
       "      <td>600.007081</td>\n",
       "      <td>383</td>\n",
       "      <td>43</td>\n",
       "      <td>False</td>\n",
       "      <td>16469</td>\n",
       "      <td>15972</td>\n",
       "      <td>497</td>\n",
       "      <td>0.969822</td>\n",
       "      <td>0.030178</td>\n",
       "      <td>43</td>\n",
       "    </tr>\n",
       "    <tr>\n",
       "      <th>1397</th>\n",
       "      <td>c880.243.matrix</td>\n",
       "      <td>600.006979</td>\n",
       "      <td>383</td>\n",
       "      <td>43</td>\n",
       "      <td>False</td>\n",
       "      <td>16469</td>\n",
       "      <td>15812</td>\n",
       "      <td>657</td>\n",
       "      <td>0.960107</td>\n",
       "      <td>0.039893</td>\n",
       "      <td>42</td>\n",
       "    </tr>\n",
       "    <tr>\n",
       "      <th>1398</th>\n",
       "      <td>c880.244.matrix</td>\n",
       "      <td>600.004594</td>\n",
       "      <td>383</td>\n",
       "      <td>36</td>\n",
       "      <td>False</td>\n",
       "      <td>13788</td>\n",
       "      <td>13469</td>\n",
       "      <td>319</td>\n",
       "      <td>0.976864</td>\n",
       "      <td>0.023136</td>\n",
       "      <td>36</td>\n",
       "    </tr>\n",
       "    <tr>\n",
       "      <th>1399</th>\n",
       "      <td>c880.245.matrix</td>\n",
       "      <td>600.003265</td>\n",
       "      <td>383</td>\n",
       "      <td>36</td>\n",
       "      <td>False</td>\n",
       "      <td>13788</td>\n",
       "      <td>13449</td>\n",
       "      <td>339</td>\n",
       "      <td>0.975413</td>\n",
       "      <td>0.024587</td>\n",
       "      <td>36</td>\n",
       "    </tr>\n",
       "  </tbody>\n",
       "</table>\n",
       "<p>1400 rows × 11 columns</p>\n",
       "</div>"
      ],
      "text/plain": [
       "           source_file     seconds  cols  rows  is_solved  #elements  \\\n",
       "0     74181.000.matrix    0.061015    65     3       True        195   \n",
       "1     74181.001.matrix    0.025005    65     2       True        130   \n",
       "2     74181.002.matrix    0.023006    65     2       True        130   \n",
       "3     74181.003.matrix    0.040020    65     2       True        130   \n",
       "4     74181.004.matrix    0.018100    65     2       True        130   \n",
       "...                ...         ...   ...   ...        ...        ...   \n",
       "1395   c880.241.matrix  600.005218   383    47      False      18001   \n",
       "1396   c880.242.matrix  600.007081   383    43      False      16469   \n",
       "1397   c880.243.matrix  600.006979   383    43      False      16469   \n",
       "1398   c880.244.matrix  600.004594   383    36      False      13788   \n",
       "1399   c880.245.matrix  600.003265   383    36      False      13788   \n",
       "\n",
       "      zeros_count  ones_count  zero_ratio  one_ratio  matrix_rank  \n",
       "0             141          54    0.723077   0.276923            3  \n",
       "1             101          29    0.776923   0.223077            2  \n",
       "2              96          34    0.738462   0.261538            2  \n",
       "3             119          11    0.915385   0.084615            2  \n",
       "4             105          25    0.807692   0.192308            2  \n",
       "...           ...         ...         ...        ...          ...  \n",
       "1395        17160         841    0.953280   0.046720           47  \n",
       "1396        15972         497    0.969822   0.030178           43  \n",
       "1397        15812         657    0.960107   0.039893           42  \n",
       "1398        13469         319    0.976864   0.023136           36  \n",
       "1399        13449         339    0.975413   0.024587           36  \n",
       "\n",
       "[1400 rows x 11 columns]"
      ]
     },
     "execution_count": 18,
     "metadata": {},
     "output_type": "execute_result"
    }
   ],
   "source": [
    "df = pd.DataFrame(useful_results, columns=[\"source_file\", \"seconds\", \"cols\", \"rows\", \"is_solved\", \"#elements\", \"zeros_count\",\n",
    "                                          \"ones_count\", \"zero_ratio\", \"one_ratio\", \"matrix_rank\"])\n",
    "df"
   ]
  },
  {
   "cell_type": "code",
   "execution_count": 19,
   "metadata": {
    "colab": {
     "base_uri": "https://localhost:8080/",
     "height": 333
    },
    "id": "q0FN_nmF275H",
    "outputId": "06678ec3-61e4-4ae8-8baa-c86ba8f0de18"
   },
   "outputs": [
    {
     "data": {
      "text/plain": [
       "<AxesSubplot:>"
      ]
     },
     "execution_count": 19,
     "metadata": {},
     "output_type": "execute_result"
    },
    {
     "data": {
      "image/png": "[encoded data removed]",
      "text/plain": [
       "<Figure size 432x288 with 1 Axes>"
      ]
     },
     "metadata": {
      "needs_background": "light"
     },
     "output_type": "display_data"
    }
   ],
   "source": [
    "df = df.replace([False, True], [0, 1])\n",
    "df['is_solved'].hist()"
   ]
  },
  {
   "cell_type": "code",
   "execution_count": 20,
   "metadata": {
    "colab": {
     "base_uri": "https://localhost:8080/",
     "height": 282
    },
    "id": "HOQweRAX3KoO",
    "outputId": "d83fbd8d-c146-4d36-ad74-db92320edb9e"
   },
   "outputs": [
    {
     "data": {
      "text/plain": [
       "<matplotlib.collections.PathCollection at 0x2aee24a6700>"
      ]
     },
     "execution_count": 20,
     "metadata": {},
     "output_type": "execute_result"
    },
    {
     "data": {
      "image/png": "[encoded data removed]",
      "text/plain": [
       "<Figure size 432x288 with 1 Axes>"
      ]
     },
     "metadata": {
      "needs_background": "light"
     },
     "output_type": "display_data"
    }
   ],
   "source": [
    "seconds_per_elements = df[['seconds', '#elements']]\n",
    "# print(seconds_per_elements)\n",
    "X = seconds_per_elements['#elements']\n",
    "y = seconds_per_elements['seconds']\n",
    "plt.scatter(X, y)"
   ]
  },
  {
   "cell_type": "code",
   "execution_count": 21,
   "metadata": {
    "colab": {
     "base_uri": "https://localhost:8080/",
     "height": 282
    },
    "id": "ISBse8EJ3pE1",
    "outputId": "e69dd3da-372c-4494-cbb5-ffb797d84916"
   },
   "outputs": [
    {
     "data": {
      "text/plain": [
       "<matplotlib.collections.PathCollection at 0x2aee2522ee0>"
      ]
     },
     "execution_count": 21,
     "metadata": {},
     "output_type": "execute_result"
    },
    {
     "data": {
      "image/png": "[encoded data removed]",
      "text/plain": [
       "<Figure size 432x288 with 1 Axes>"
      ]
     },
     "metadata": {
      "needs_background": "light"
     },
     "output_type": "display_data"
    }
   ],
   "source": [
    "seconds_per_rows = df[['seconds', 'rows']]\n",
    "X = seconds_per_rows['rows']\n",
    "y = seconds_per_rows['seconds']\n",
    "plt.scatter(X, y)"
   ]
  },
  {
   "cell_type": "code",
   "execution_count": 22,
   "metadata": {
    "colab": {
     "base_uri": "https://localhost:8080/",
     "height": 282
    },
    "id": "rhadH81h4Ema",
    "outputId": "5ec19625-c81a-4ba7-a8cb-f0f7169cefb7"
   },
   "outputs": [
    {
     "data": {
      "text/plain": [
       "<matplotlib.collections.PathCollection at 0x2aee2595df0>"
      ]
     },
     "execution_count": 22,
     "metadata": {},
     "output_type": "execute_result"
    },
    {
     "data": {
      "image/png": "[encoded data removed]",
      "text/plain": [
       "<Figure size 432x288 with 1 Axes>"
      ]
     },
     "metadata": {
      "needs_background": "light"
     },
     "output_type": "display_data"
    }
   ],
   "source": [
    "seconds_per_cols = df[['seconds', 'cols']]\n",
    "X = seconds_per_cols['cols']\n",
    "y = seconds_per_cols['seconds']\n",
    "plt.scatter(X, y)"
   ]
  },
  {
   "cell_type": "code",
   "execution_count": 23,
   "metadata": {},
   "outputs": [
    {
     "data": {
      "text/plain": [
       "<matplotlib.collections.PathCollection at 0x2aee24bdb20>"
      ]
     },
     "execution_count": 23,
     "metadata": {},
     "output_type": "execute_result"
    },
    {
     "data": {
      "image/png": "[encoded data removed]",
      "text/plain": [
       "<Figure size 432x288 with 1 Axes>"
      ]
     },
     "metadata": {
      "needs_background": "light"
     },
     "output_type": "display_data"
    }
   ],
   "source": [
    "seconds_per_zeros_count = df[['seconds', 'zeros_count']]\n",
    "X = seconds_per_zeros_count['zeros_count']\n",
    "y = seconds_per_zeros_count['seconds']\n",
    "plt.scatter(X, y)"
   ]
  },
  {
   "cell_type": "code",
   "execution_count": 24,
   "metadata": {},
   "outputs": [
    {
     "data": {
      "text/plain": [
       "<matplotlib.collections.PathCollection at 0x2aee2675520>"
      ]
     },
     "execution_count": 24,
     "metadata": {},
     "output_type": "execute_result"
    },
    {
     "data": {
      "image/png": "[encoded data removed]",
      "text/plain": [
       "<Figure size 432x288 with 1 Axes>"
      ]
     },
     "metadata": {
      "needs_background": "light"
     },
     "output_type": "display_data"
    }
   ],
   "source": [
    "seconds_per_ones_count = df[['seconds', 'ones_count']]\n",
    "X = seconds_per_ones_count['ones_count']\n",
    "y = seconds_per_ones_count['seconds']\n",
    "plt.scatter(X, y)"
   ]
  },
  {
   "cell_type": "code",
   "execution_count": 25,
   "metadata": {},
   "outputs": [
    {
     "data": {
      "text/plain": [
       "<matplotlib.collections.PathCollection at 0x2aee254f970>"
      ]
     },
     "execution_count": 25,
     "metadata": {},
     "output_type": "execute_result"
    },
    {
     "data": {
      "image/png": "[encoded data removed]",
      "text/plain": [
       "<Figure size 432x288 with 1 Axes>"
      ]
     },
     "metadata": {
      "needs_background": "light"
     },
     "output_type": "display_data"
    }
   ],
   "source": [
    "seconds_per_rank = df[['seconds', 'matrix_rank']]\n",
    "X = seconds_per_rank['matrix_rank']\n",
    "y = seconds_per_rank['seconds']\n",
    "plt.scatter(X, y)"
   ]
  },
  {
   "cell_type": "code",
   "execution_count": 26,
   "metadata": {
    "colab": {
     "base_uri": "https://localhost:8080/",
     "height": 990
    },
    "id": "UMqCrbSS4Rol",
    "outputId": "cab15987-e394-4830-f993-0a295ad49ca9"
   },
   "outputs": [
    {
     "data": {
      "text/html": [
       "<div>\n",
       "<style scoped>\n",
       "    .dataframe tbody tr th:only-of-type {\n",
       "        vertical-align: middle;\n",
       "    }\n",
       "\n",
       "    .dataframe tbody tr th {\n",
       "        vertical-align: top;\n",
       "    }\n",
       "\n",
       "    .dataframe thead th {\n",
       "        text-align: right;\n",
       "    }\n",
       "</style>\n",
       "<table border=\"1\" class=\"dataframe\">\n",
       "  <thead>\n",
       "    <tr style=\"text-align: right;\">\n",
       "      <th></th>\n",
       "      <th>source_file</th>\n",
       "      <th>seconds</th>\n",
       "      <th>cols</th>\n",
       "      <th>rows</th>\n",
       "      <th>is_solved</th>\n",
       "      <th>#elements</th>\n",
       "      <th>zeros_count</th>\n",
       "      <th>ones_count</th>\n",
       "      <th>zero_ratio</th>\n",
       "      <th>one_ratio</th>\n",
       "      <th>matrix_rank</th>\n",
       "    </tr>\n",
       "  </thead>\n",
       "  <tbody>\n",
       "    <tr>\n",
       "      <th>62</th>\n",
       "      <td>74182.008.matrix</td>\n",
       "      <td>0.005000</td>\n",
       "      <td>19</td>\n",
       "      <td>1</td>\n",
       "      <td>1</td>\n",
       "      <td>19</td>\n",
       "      <td>15</td>\n",
       "      <td>4</td>\n",
       "      <td>0.789474</td>\n",
       "      <td>0.210526</td>\n",
       "      <td>1</td>\n",
       "    </tr>\n",
       "    <tr>\n",
       "      <th>63</th>\n",
       "      <td>74182.009.matrix</td>\n",
       "      <td>0.005000</td>\n",
       "      <td>19</td>\n",
       "      <td>1</td>\n",
       "      <td>1</td>\n",
       "      <td>19</td>\n",
       "      <td>18</td>\n",
       "      <td>1</td>\n",
       "      <td>0.947368</td>\n",
       "      <td>0.052632</td>\n",
       "      <td>1</td>\n",
       "    </tr>\n",
       "    <tr>\n",
       "      <th>61</th>\n",
       "      <td>74182.007.matrix</td>\n",
       "      <td>0.005000</td>\n",
       "      <td>19</td>\n",
       "      <td>1</td>\n",
       "      <td>1</td>\n",
       "      <td>19</td>\n",
       "      <td>18</td>\n",
       "      <td>1</td>\n",
       "      <td>0.947368</td>\n",
       "      <td>0.052632</td>\n",
       "      <td>1</td>\n",
       "    </tr>\n",
       "    <tr>\n",
       "      <th>60</th>\n",
       "      <td>74182.006.matrix</td>\n",
       "      <td>0.005000</td>\n",
       "      <td>19</td>\n",
       "      <td>1</td>\n",
       "      <td>1</td>\n",
       "      <td>19</td>\n",
       "      <td>18</td>\n",
       "      <td>1</td>\n",
       "      <td>0.947368</td>\n",
       "      <td>0.052632</td>\n",
       "      <td>1</td>\n",
       "    </tr>\n",
       "    <tr>\n",
       "      <th>59</th>\n",
       "      <td>74182.005.matrix</td>\n",
       "      <td>0.005000</td>\n",
       "      <td>19</td>\n",
       "      <td>1</td>\n",
       "      <td>1</td>\n",
       "      <td>19</td>\n",
       "      <td>15</td>\n",
       "      <td>4</td>\n",
       "      <td>0.789474</td>\n",
       "      <td>0.210526</td>\n",
       "      <td>1</td>\n",
       "    </tr>\n",
       "    <tr>\n",
       "      <th>...</th>\n",
       "      <td>...</td>\n",
       "      <td>...</td>\n",
       "      <td>...</td>\n",
       "      <td>...</td>\n",
       "      <td>...</td>\n",
       "      <td>...</td>\n",
       "      <td>...</td>\n",
       "      <td>...</td>\n",
       "      <td>...</td>\n",
       "      <td>...</td>\n",
       "      <td>...</td>\n",
       "    </tr>\n",
       "    <tr>\n",
       "      <th>1155</th>\n",
       "      <td>c7552.190.matrix</td>\n",
       "      <td>600.030101</td>\n",
       "      <td>3512</td>\n",
       "      <td>103</td>\n",
       "      <td>0</td>\n",
       "      <td>361736</td>\n",
       "      <td>354595</td>\n",
       "      <td>7141</td>\n",
       "      <td>0.980259</td>\n",
       "      <td>0.019741</td>\n",
       "      <td>96</td>\n",
       "    </tr>\n",
       "    <tr>\n",
       "      <th>1164</th>\n",
       "      <td>c7552.218.matrix</td>\n",
       "      <td>600.051851</td>\n",
       "      <td>3512</td>\n",
       "      <td>64</td>\n",
       "      <td>0</td>\n",
       "      <td>224768</td>\n",
       "      <td>218998</td>\n",
       "      <td>5770</td>\n",
       "      <td>0.974329</td>\n",
       "      <td>0.025671</td>\n",
       "      <td>64</td>\n",
       "    </tr>\n",
       "    <tr>\n",
       "      <th>510</th>\n",
       "      <td>c2670.165.matrix</td>\n",
       "      <td>600.116018</td>\n",
       "      <td>1193</td>\n",
       "      <td>24</td>\n",
       "      <td>0</td>\n",
       "      <td>28632</td>\n",
       "      <td>28308</td>\n",
       "      <td>324</td>\n",
       "      <td>0.988684</td>\n",
       "      <td>0.011316</td>\n",
       "      <td>24</td>\n",
       "    </tr>\n",
       "    <tr>\n",
       "      <th>1120</th>\n",
       "      <td>c7552.131.matrix</td>\n",
       "      <td>600.813405</td>\n",
       "      <td>3512</td>\n",
       "      <td>92</td>\n",
       "      <td>0</td>\n",
       "      <td>323104</td>\n",
       "      <td>308489</td>\n",
       "      <td>14615</td>\n",
       "      <td>0.954767</td>\n",
       "      <td>0.045233</td>\n",
       "      <td>75</td>\n",
       "    </tr>\n",
       "    <tr>\n",
       "      <th>330</th>\n",
       "      <td>c1908.088.matrix</td>\n",
       "      <td>601.200644</td>\n",
       "      <td>880</td>\n",
       "      <td>95</td>\n",
       "      <td>0</td>\n",
       "      <td>83600</td>\n",
       "      <td>76505</td>\n",
       "      <td>7095</td>\n",
       "      <td>0.915132</td>\n",
       "      <td>0.084868</td>\n",
       "      <td>82</td>\n",
       "    </tr>\n",
       "  </tbody>\n",
       "</table>\n",
       "<p>1400 rows × 11 columns</p>\n",
       "</div>"
      ],
      "text/plain": [
       "           source_file     seconds  cols  rows  is_solved  #elements  \\\n",
       "62    74182.008.matrix    0.005000    19     1          1         19   \n",
       "63    74182.009.matrix    0.005000    19     1          1         19   \n",
       "61    74182.007.matrix    0.005000    19     1          1         19   \n",
       "60    74182.006.matrix    0.005000    19     1          1         19   \n",
       "59    74182.005.matrix    0.005000    19     1          1         19   \n",
       "...                ...         ...   ...   ...        ...        ...   \n",
       "1155  c7552.190.matrix  600.030101  3512   103          0     361736   \n",
       "1164  c7552.218.matrix  600.051851  3512    64          0     224768   \n",
       "510   c2670.165.matrix  600.116018  1193    24          0      28632   \n",
       "1120  c7552.131.matrix  600.813405  3512    92          0     323104   \n",
       "330   c1908.088.matrix  601.200644   880    95          0      83600   \n",
       "\n",
       "      zeros_count  ones_count  zero_ratio  one_ratio  matrix_rank  \n",
       "62             15           4    0.789474   0.210526            1  \n",
       "63             18           1    0.947368   0.052632            1  \n",
       "61             18           1    0.947368   0.052632            1  \n",
       "60             18           1    0.947368   0.052632            1  \n",
       "59             15           4    0.789474   0.210526            1  \n",
       "...           ...         ...         ...        ...          ...  \n",
       "1155       354595        7141    0.980259   0.019741           96  \n",
       "1164       218998        5770    0.974329   0.025671           64  \n",
       "510         28308         324    0.988684   0.011316           24  \n",
       "1120       308489       14615    0.954767   0.045233           75  \n",
       "330         76505        7095    0.915132   0.084868           82  \n",
       "\n",
       "[1400 rows x 11 columns]"
      ]
     },
     "execution_count": 26,
     "metadata": {},
     "output_type": "execute_result"
    }
   ],
   "source": [
    "df.sort_values(by=['seconds'])"
   ]
  },
  {
   "cell_type": "code",
   "execution_count": 29,
   "metadata": {
    "colab": {
     "base_uri": "https://localhost:8080/"
    },
    "id": "g7DR3M0941RN",
    "outputId": "05064b6d-1c44-44ac-8aad-cd62fc2aeb49"
   },
   "outputs": [
    {
     "data": {
      "text/html": [
       "<div>\n",
       "<style scoped>\n",
       "    .dataframe tbody tr th:only-of-type {\n",
       "        vertical-align: middle;\n",
       "    }\n",
       "\n",
       "    .dataframe tbody tr th {\n",
       "        vertical-align: top;\n",
       "    }\n",
       "\n",
       "    .dataframe thead th {\n",
       "        text-align: right;\n",
       "    }\n",
       "</style>\n",
       "<table border=\"1\" class=\"dataframe\">\n",
       "  <thead>\n",
       "    <tr style=\"text-align: right;\">\n",
       "      <th></th>\n",
       "      <th>source_file</th>\n",
       "      <th>seconds</th>\n",
       "      <th>cols</th>\n",
       "      <th>rows</th>\n",
       "      <th>is_solved</th>\n",
       "      <th>#elements</th>\n",
       "      <th>zeros_count</th>\n",
       "      <th>ones_count</th>\n",
       "      <th>zero_ratio</th>\n",
       "      <th>one_ratio</th>\n",
       "      <th>matrix_rank</th>\n",
       "    </tr>\n",
       "  </thead>\n",
       "  <tbody>\n",
       "    <tr>\n",
       "      <th>56</th>\n",
       "      <td>74182.002.matrix</td>\n",
       "      <td>0.296002</td>\n",
       "      <td>19</td>\n",
       "      <td>1</td>\n",
       "      <td>1</td>\n",
       "      <td>19</td>\n",
       "      <td>16</td>\n",
       "      <td>3</td>\n",
       "      <td>0.842105</td>\n",
       "      <td>0.157895</td>\n",
       "      <td>1</td>\n",
       "    </tr>\n",
       "    <tr>\n",
       "      <th>63</th>\n",
       "      <td>74182.009.matrix</td>\n",
       "      <td>0.005000</td>\n",
       "      <td>19</td>\n",
       "      <td>1</td>\n",
       "      <td>1</td>\n",
       "      <td>19</td>\n",
       "      <td>18</td>\n",
       "      <td>1</td>\n",
       "      <td>0.947368</td>\n",
       "      <td>0.052632</td>\n",
       "      <td>1</td>\n",
       "    </tr>\n",
       "    <tr>\n",
       "      <th>62</th>\n",
       "      <td>74182.008.matrix</td>\n",
       "      <td>0.005000</td>\n",
       "      <td>19</td>\n",
       "      <td>1</td>\n",
       "      <td>1</td>\n",
       "      <td>19</td>\n",
       "      <td>15</td>\n",
       "      <td>4</td>\n",
       "      <td>0.789474</td>\n",
       "      <td>0.210526</td>\n",
       "      <td>1</td>\n",
       "    </tr>\n",
       "    <tr>\n",
       "      <th>61</th>\n",
       "      <td>74182.007.matrix</td>\n",
       "      <td>0.005000</td>\n",
       "      <td>19</td>\n",
       "      <td>1</td>\n",
       "      <td>1</td>\n",
       "      <td>19</td>\n",
       "      <td>18</td>\n",
       "      <td>1</td>\n",
       "      <td>0.947368</td>\n",
       "      <td>0.052632</td>\n",
       "      <td>1</td>\n",
       "    </tr>\n",
       "    <tr>\n",
       "      <th>60</th>\n",
       "      <td>74182.006.matrix</td>\n",
       "      <td>0.005000</td>\n",
       "      <td>19</td>\n",
       "      <td>1</td>\n",
       "      <td>1</td>\n",
       "      <td>19</td>\n",
       "      <td>18</td>\n",
       "      <td>1</td>\n",
       "      <td>0.947368</td>\n",
       "      <td>0.052632</td>\n",
       "      <td>1</td>\n",
       "    </tr>\n",
       "    <tr>\n",
       "      <th>...</th>\n",
       "      <td>...</td>\n",
       "      <td>...</td>\n",
       "      <td>...</td>\n",
       "      <td>...</td>\n",
       "      <td>...</td>\n",
       "      <td>...</td>\n",
       "      <td>...</td>\n",
       "      <td>...</td>\n",
       "      <td>...</td>\n",
       "      <td>...</td>\n",
       "      <td>...</td>\n",
       "    </tr>\n",
       "    <tr>\n",
       "      <th>809</th>\n",
       "      <td>c5315.040.matrix</td>\n",
       "      <td>14.511056</td>\n",
       "      <td>2307</td>\n",
       "      <td>9</td>\n",
       "      <td>1</td>\n",
       "      <td>20763</td>\n",
       "      <td>20696</td>\n",
       "      <td>67</td>\n",
       "      <td>0.996773</td>\n",
       "      <td>0.003227</td>\n",
       "      <td>9</td>\n",
       "    </tr>\n",
       "    <tr>\n",
       "      <th>808</th>\n",
       "      <td>c5315.039.matrix</td>\n",
       "      <td>1.819016</td>\n",
       "      <td>2307</td>\n",
       "      <td>9</td>\n",
       "      <td>1</td>\n",
       "      <td>20763</td>\n",
       "      <td>20710</td>\n",
       "      <td>53</td>\n",
       "      <td>0.997447</td>\n",
       "      <td>0.002553</td>\n",
       "      <td>9</td>\n",
       "    </tr>\n",
       "    <tr>\n",
       "      <th>810</th>\n",
       "      <td>c5315.041.matrix</td>\n",
       "      <td>175.038038</td>\n",
       "      <td>2307</td>\n",
       "      <td>10</td>\n",
       "      <td>1</td>\n",
       "      <td>23070</td>\n",
       "      <td>22997</td>\n",
       "      <td>73</td>\n",
       "      <td>0.996836</td>\n",
       "      <td>0.003164</td>\n",
       "      <td>10</td>\n",
       "    </tr>\n",
       "    <tr>\n",
       "      <th>816</th>\n",
       "      <td>c5315.049.matrix</td>\n",
       "      <td>5.419951</td>\n",
       "      <td>2307</td>\n",
       "      <td>10</td>\n",
       "      <td>1</td>\n",
       "      <td>23070</td>\n",
       "      <td>23019</td>\n",
       "      <td>51</td>\n",
       "      <td>0.997789</td>\n",
       "      <td>0.002211</td>\n",
       "      <td>10</td>\n",
       "    </tr>\n",
       "    <tr>\n",
       "      <th>817</th>\n",
       "      <td>c5315.050.matrix</td>\n",
       "      <td>12.163635</td>\n",
       "      <td>2307</td>\n",
       "      <td>11</td>\n",
       "      <td>1</td>\n",
       "      <td>25377</td>\n",
       "      <td>25324</td>\n",
       "      <td>53</td>\n",
       "      <td>0.997911</td>\n",
       "      <td>0.002089</td>\n",
       "      <td>11</td>\n",
       "    </tr>\n",
       "  </tbody>\n",
       "</table>\n",
       "<p>342 rows × 11 columns</p>\n",
       "</div>"
      ],
      "text/plain": [
       "          source_file     seconds  cols  rows  is_solved  #elements  \\\n",
       "56   74182.002.matrix    0.296002    19     1          1         19   \n",
       "63   74182.009.matrix    0.005000    19     1          1         19   \n",
       "62   74182.008.matrix    0.005000    19     1          1         19   \n",
       "61   74182.007.matrix    0.005000    19     1          1         19   \n",
       "60   74182.006.matrix    0.005000    19     1          1         19   \n",
       "..                ...         ...   ...   ...        ...        ...   \n",
       "809  c5315.040.matrix   14.511056  2307     9          1      20763   \n",
       "808  c5315.039.matrix    1.819016  2307     9          1      20763   \n",
       "810  c5315.041.matrix  175.038038  2307    10          1      23070   \n",
       "816  c5315.049.matrix    5.419951  2307    10          1      23070   \n",
       "817  c5315.050.matrix   12.163635  2307    11          1      25377   \n",
       "\n",
       "     zeros_count  ones_count  zero_ratio  one_ratio  matrix_rank  \n",
       "56            16           3    0.842105   0.157895            1  \n",
       "63            18           1    0.947368   0.052632            1  \n",
       "62            15           4    0.789474   0.210526            1  \n",
       "61            18           1    0.947368   0.052632            1  \n",
       "60            18           1    0.947368   0.052632            1  \n",
       "..           ...         ...         ...        ...          ...  \n",
       "809        20696          67    0.996773   0.003227            9  \n",
       "808        20710          53    0.997447   0.002553            9  \n",
       "810        22997          73    0.996836   0.003164           10  \n",
       "816        23019          51    0.997789   0.002211           10  \n",
       "817        25324          53    0.997911   0.002089           11  \n",
       "\n",
       "[342 rows x 11 columns]"
      ]
     },
     "execution_count": 29,
     "metadata": {},
     "output_type": "execute_result"
    }
   ],
   "source": [
    "#Pick the bigger solved instance\n",
    "solved_df = df[df['is_solved'] == 1]\n",
    "solved_df['#elements'].max()\n",
    "solved_df.sort_values(by=\"#elements\")"
   ]
  },
  {
   "cell_type": "code",
   "execution_count": 15,
   "metadata": {},
   "outputs": [],
   "source": [
    "os.makedirs(\"./benchmarks_1_other_data\", exist_ok=True)\n",
    "os.makedirs(\"./benchmarks_2_other_data\", exist_ok=True)"
   ]
  },
  {
   "cell_type": "code",
   "execution_count": 16,
   "metadata": {},
   "outputs": [
    {
     "data": {
      "application/vnd.jupyter.widget-view+json": {
       "model_id": "97a196cc52f94718b8e66c36ce4e37bb",
       "version_major": 2,
       "version_minor": 0
      },
      "text/plain": [
       "  0%|          | 0/1400 [00:00<?, ?it/s]"
      ]
     },
     "metadata": {},
     "output_type": "display_data"
    }
   ],
   "source": [
    "for matrix_file in tqdm(matrices_files_2):\n",
    "    matrix = read_matrix(benchmark_2 + \"/\" + matrix_file)\n",
    "    condition0 = matrix == 0\n",
    "    condition1 = matrix == 1\n",
    "    zeros_count = np.count_nonzero(condition0)\n",
    "    ones_count = np.count_nonzero(condition1)\n",
    "    total_elems = zeros_count + ones_count\n",
    "    zero_ratio = zeros_count / float(total_elems)\n",
    "    one_ratio = ones_count / float(total_elems)\n",
    "    rank = np.linalg.matrix_rank(matrix)\n",
    "    file_to_write = f\"./benchmarks_2_other_data/{matrix_file}\"\n",
    "    with open(file_to_write, \"w\") as f:\n",
    "        f.write(str(zeros_count) + \"\\n\")\n",
    "        f.write(str(ones_count) + \"\\n\")\n",
    "        f.write(str(total_elems) + \"\\n\")\n",
    "        f.write(str(zero_ratio) + \"\\n\")\n",
    "        f.write(str(one_ratio) + \"\\n\")\n",
    "        f.write(str(rank) + \"\\n\")\n",
    "        f.close()"
   ]
  },
  {
   "cell_type": "code",
   "execution_count": null,
   "metadata": {},
   "outputs": [],
   "source": []
  },
  {
   "cell_type": "code",
   "execution_count": null,
   "metadata": {},
   "outputs": [],
   "source": []
  },
  {
   "cell_type": "code",
   "execution_count": null,
   "metadata": {},
   "outputs": [],
   "source": []
  },
  {
   "cell_type": "code",
   "execution_count": null,
   "metadata": {},
   "outputs": [],
   "source": []
  },
  {
   "cell_type": "code",
   "execution_count": null,
   "metadata": {},
   "outputs": [],
   "source": []
  },
  {
   "cell_type": "code",
   "execution_count": null,
   "metadata": {},
   "outputs": [],
   "source": []
  },
  {
   "cell_type": "code",
   "execution_count": null,
   "metadata": {},
   "outputs": [],
   "source": []
  },
  {
   "cell_type": "code",
   "execution_count": null,
   "metadata": {},
   "outputs": [],
   "source": []
  }
 ],
 "metadata": {
  "colab": {
   "collapsed_sections": [],
   "name": "minimum_hitting_set_project.ipynb",
   "provenance": []
  },
  "kernelspec": {
   "display_name": "Python 3 (ipykernel)",
   "language": "python",
   "name": "python3"
  },
  "language_info": {
   "codemirror_mode": {
    "name": "ipython",
    "version": 3
   },
   "file_extension": ".py",
   "mimetype": "text/x-python",
   "name": "python",
   "nbconvert_exporter": "python",
   "pygments_lexer": "ipython3",
   "version": "3.8.12"
  },
  "widgets": {
   "application/vnd.jupyter.widget-state+json": {
    "2159aa64ecf345f189b7d46e2a67cb04": {
     "model_module": "@jupyter-widgets/controls",
     "model_module_version": "1.5.0",
     "model_name": "HTMLModel",
     "state": {
      "_dom_classes": [],
      "_model_module": "@jupyter-widgets/controls",
      "_model_module_version": "1.5.0",
      "_model_name": "HTMLModel",
      "_view_count": null,
      "_view_module": "@jupyter-widgets/controls",
      "_view_module_version": "1.5.0",
      "_view_name": "HTMLView",
      "description": "",
      "description_tooltip": null,
      "layout": "IPY_MODEL_c8581f4c81bb4a4e89650aa088c9a675",
      "placeholder": "​",
      "style": "IPY_MODEL_b9bce580d37746d98605ae667c0dfc3d",
      "value": " 30/30 [03:04&lt;00:00,  8.39s/it]"
     }
    },
    "2da698901301415bad6c689f31bff477": {
     "model_module": "@jupyter-widgets/base",
     "model_module_version": "1.2.0",
     "model_name": "LayoutModel",
     "state": {
      "_model_module": "@jupyter-widgets/base",
      "_model_module_version": "1.2.0",
      "_model_name": "LayoutModel",
      "_view_count": null,
      "_view_module": "@jupyter-widgets/base",
      "_view_module_version": "1.2.0",
      "_view_name": "LayoutView",
      "align_content": null,
      "align_items": null,
      "align_self": null,
      "border": null,
      "bottom": null,
      "display": null,
      "flex": null,
      "flex_flow": null,
      "grid_area": null,
      "grid_auto_columns": null,
      "grid_auto_flow": null,
      "grid_auto_rows": null,
      "grid_column": null,
      "grid_gap": null,
      "grid_row": null,
      "grid_template_areas": null,
      "grid_template_columns": null,
      "grid_template_rows": null,
      "height": null,
      "justify_content": null,
      "justify_items": null,
      "left": null,
      "margin": null,
      "max_height": null,
      "max_width": null,
      "min_height": null,
      "min_width": null,
      "object_fit": null,
      "object_position": null,
      "order": null,
      "overflow": null,
      "overflow_x": null,
      "overflow_y": null,
      "padding": null,
      "right": null,
      "top": null,
      "visibility": null,
      "width": null
     }
    },
    "31e519f60c004abba6e5c08b9a8c95e0": {
     "model_module": "@jupyter-widgets/controls",
     "model_module_version": "1.5.0",
     "model_name": "FloatProgressModel",
     "state": {
      "_dom_classes": [],
      "_model_module": "@jupyter-widgets/controls",
      "_model_module_version": "1.5.0",
      "_model_name": "FloatProgressModel",
      "_view_count": null,
      "_view_module": "@jupyter-widgets/controls",
      "_view_module_version": "1.5.0",
      "_view_name": "ProgressView",
      "bar_style": "success",
      "description": "",
      "description_tooltip": null,
      "layout": "IPY_MODEL_2da698901301415bad6c689f31bff477",
      "max": 30,
      "min": 0,
      "orientation": "horizontal",
      "style": "IPY_MODEL_ec18b919aea54cc48afb9f3dcdcbd12e",
      "value": 30
     }
    },
    "7c337bdf862343d0ae1abc81aa6c4632": {
     "model_module": "@jupyter-widgets/base",
     "model_module_version": "1.2.0",
     "model_name": "LayoutModel",
     "state": {
      "_model_module": "@jupyter-widgets/base",
      "_model_module_version": "1.2.0",
      "_model_name": "LayoutModel",
      "_view_count": null,
      "_view_module": "@jupyter-widgets/base",
      "_view_module_version": "1.2.0",
      "_view_name": "LayoutView",
      "align_content": null,
      "align_items": null,
      "align_self": null,
      "border": null,
      "bottom": null,
      "display": null,
      "flex": null,
      "flex_flow": null,
      "grid_area": null,
      "grid_auto_columns": null,
      "grid_auto_flow": null,
      "grid_auto_rows": null,
      "grid_column": null,
      "grid_gap": null,
      "grid_row": null,
      "grid_template_areas": null,
      "grid_template_columns": null,
      "grid_template_rows": null,
      "height": null,
      "justify_content": null,
      "justify_items": null,
      "left": null,
      "margin": null,
      "max_height": null,
      "max_width": null,
      "min_height": null,
      "min_width": null,
      "object_fit": null,
      "object_position": null,
      "order": null,
      "overflow": null,
      "overflow_x": null,
      "overflow_y": null,
      "padding": null,
      "right": null,
      "top": null,
      "visibility": null,
      "width": null
     }
    },
    "a1485f528cf44d769354da203e1774c6": {
     "model_module": "@jupyter-widgets/controls",
     "model_module_version": "1.5.0",
     "model_name": "HTMLModel",
     "state": {
      "_dom_classes": [],
      "_model_module": "@jupyter-widgets/controls",
      "_model_module_version": "1.5.0",
      "_model_name": "HTMLModel",
      "_view_count": null,
      "_view_module": "@jupyter-widgets/controls",
      "_view_module_version": "1.5.0",
      "_view_name": "HTMLView",
      "description": "",
      "description_tooltip": null,
      "layout": "IPY_MODEL_7c337bdf862343d0ae1abc81aa6c4632",
      "placeholder": "​",
      "style": "IPY_MODEL_ee491493f59a47da987d3f76632073f6",
      "value": "100%"
     }
    },
    "a58097edc0ed412e8fdb67dfd9939f92": {
     "model_module": "@jupyter-widgets/controls",
     "model_module_version": "1.5.0",
     "model_name": "HBoxModel",
     "state": {
      "_dom_classes": [],
      "_model_module": "@jupyter-widgets/controls",
      "_model_module_version": "1.5.0",
      "_model_name": "HBoxModel",
      "_view_count": null,
      "_view_module": "@jupyter-widgets/controls",
      "_view_module_version": "1.5.0",
      "_view_name": "HBoxView",
      "box_style": "",
      "children": [
       "IPY_MODEL_a1485f528cf44d769354da203e1774c6",
       "IPY_MODEL_31e519f60c004abba6e5c08b9a8c95e0",
       "IPY_MODEL_2159aa64ecf345f189b7d46e2a67cb04"
      ],
      "layout": "IPY_MODEL_d00c33c6794847eca6d4665665620a03"
     }
    },
    "b9bce580d37746d98605ae667c0dfc3d": {
     "model_module": "@jupyter-widgets/controls",
     "model_module_version": "1.5.0",
     "model_name": "DescriptionStyleModel",
     "state": {
      "_model_module": "@jupyter-widgets/controls",
      "_model_module_version": "1.5.0",
      "_model_name": "DescriptionStyleModel",
      "_view_count": null,
      "_view_module": "@jupyter-widgets/base",
      "_view_module_version": "1.2.0",
      "_view_name": "StyleView",
      "description_width": ""
     }
    },
    "c8581f4c81bb4a4e89650aa088c9a675": {
     "model_module": "@jupyter-widgets/base",
     "model_module_version": "1.2.0",
     "model_name": "LayoutModel",
     "state": {
      "_model_module": "@jupyter-widgets/base",
      "_model_module_version": "1.2.0",
      "_model_name": "LayoutModel",
      "_view_count": null,
      "_view_module": "@jupyter-widgets/base",
      "_view_module_version": "1.2.0",
      "_view_name": "LayoutView",
      "align_content": null,
      "align_items": null,
      "align_self": null,
      "border": null,
      "bottom": null,
      "display": null,
      "flex": null,
      "flex_flow": null,
      "grid_area": null,
      "grid_auto_columns": null,
      "grid_auto_flow": null,
      "grid_auto_rows": null,
      "grid_column": null,
      "grid_gap": null,
      "grid_row": null,
      "grid_template_areas": null,
      "grid_template_columns": null,
      "grid_template_rows": null,
      "height": null,
      "justify_content": null,
      "justify_items": null,
      "left": null,
      "margin": null,
      "max_height": null,
      "max_width": null,
      "min_height": null,
      "min_width": null,
      "object_fit": null,
      "object_position": null,
      "order": null,
      "overflow": null,
      "overflow_x": null,
      "overflow_y": null,
      "padding": null,
      "right": null,
      "top": null,
      "visibility": null,
      "width": null
     }
    },
    "d00c33c6794847eca6d4665665620a03": {
     "model_module": "@jupyter-widgets/base",
     "model_module_version": "1.2.0",
     "model_name": "LayoutModel",
     "state": {
      "_model_module": "@jupyter-widgets/base",
      "_model_module_version": "1.2.0",
      "_model_name": "LayoutModel",
      "_view_count": null,
      "_view_module": "@jupyter-widgets/base",
      "_view_module_version": "1.2.0",
      "_view_name": "LayoutView",
      "align_content": null,
      "align_items": null,
      "align_self": null,
      "border": null,
      "bottom": null,
      "display": null,
      "flex": null,
      "flex_flow": null,
      "grid_area": null,
      "grid_auto_columns": null,
      "grid_auto_flow": null,
      "grid_auto_rows": null,
      "grid_column": null,
      "grid_gap": null,
      "grid_row": null,
      "grid_template_areas": null,
      "grid_template_columns": null,
      "grid_template_rows": null,
      "height": null,
      "justify_content": null,
      "justify_items": null,
      "left": null,
      "margin": null,
      "max_height": null,
      "max_width": null,
      "min_height": null,
      "min_width": null,
      "object_fit": null,
      "object_position": null,
      "order": null,
      "overflow": null,
      "overflow_x": null,
      "overflow_y": null,
      "padding": null,
      "right": null,
      "top": null,
      "visibility": null,
      "width": null
     }
    },
    "ec18b919aea54cc48afb9f3dcdcbd12e": {
     "model_module": "@jupyter-widgets/controls",
     "model_module_version": "1.5.0",
     "model_name": "ProgressStyleModel",
     "state": {
      "_model_module": "@jupyter-widgets/controls",
      "_model_module_version": "1.5.0",
      "_model_name": "ProgressStyleModel",
      "_view_count": null,
      "_view_module": "@jupyter-widgets/base",
      "_view_module_version": "1.2.0",
      "_view_name": "StyleView",
      "bar_color": null,
      "description_width": ""
     }
    },
    "ee491493f59a47da987d3f76632073f6": {
     "model_module": "@jupyter-widgets/controls",
     "model_module_version": "1.5.0",
     "model_name": "DescriptionStyleModel",
     "state": {
      "_model_module": "@jupyter-widgets/controls",
      "_model_module_version": "1.5.0",
      "_model_name": "DescriptionStyleModel",
      "_view_count": null,
      "_view_module": "@jupyter-widgets/base",
      "_view_module_version": "1.2.0",
      "_view_name": "StyleView",
      "description_width": ""
     }
    }
   }
  }
 },
 "nbformat": 4,
 "nbformat_minor": 1
}
